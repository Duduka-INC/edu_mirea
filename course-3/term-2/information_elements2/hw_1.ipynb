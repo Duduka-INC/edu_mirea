{
 "cells": [
  {
   "cell_type": "code",
   "execution_count": null,
   "id": "initial_id",
   "metadata": {
    "collapsed": true
   },
   "outputs": [],
   "source": [
    "# #2\n",
    "import cv2\n",
    "import albumentations as A\n",
    "import numpy as np\n",
    "import os\n",
    "\n",
    "\n",
    "# Функция для загрузки изображения\n",
    "def load_image(file_path):\n",
    "    return cv2.imread(file_path)\n",
    "\n",
    "\n",
    "# Функция для сохранения изображения\n",
    "def save_image(image, output_path):\n",
    "    cv2.imwrite(output_path, image)\n",
    "\n",
    "\n",
    "# Задаем аугментации\n",
    "augmentation_pipeline = A.Compose([\n",
    "    A.RandomRotate90(p=0.5),\n",
    "    A.HorizontalFlip(p=0.5),\n",
    "    A.VerticalFlip(p=0.5),\n",
    "    A.ShiftScaleRotate(shift_limit=0.0625, scale_limit=0.5, rotate_limit=45, p=0.5),\n",
    "    A.RGBShift(r_shift_limit=20, g_shift_limit=20, b_shift_limit=20, p=0.5),\n",
    "    A.RandomBrightnessContrast(brightness_limit=0.2, contrast_limit=0.2, p=0.5),\n",
    "    A.HueSaturationValue(hue_shift_limit=20, sat_shift_limit=30, val_shift_limit=20, p=0.5),\n",
    "])\n",
    "\n",
    "\n",
    "def augment_image(image, num_augmentations):\n",
    "    augmented_images = []\n",
    "    for _ in range(num_augmentations):\n",
    "        augmented = augmentation_pipeline(image=image)['image']\n",
    "        augmented_images.append(augmented)\n",
    "    return augmented_images\n",
    "\n",
    "\n",
    "# Путь к директории с исходными изображениями\n",
    "input_dir = 'input_images'\n",
    "# Путь к директории для сохранения аугментированных изображений\n",
    "output_dir = 'output_images'\n",
    "\n",
    "if not os.path.exists(output_dir):\n",
    "    os.makedirs(output_dir)\n",
    "\n",
    "# Загрузка изображений\n",
    "image_files = [f for f in os.listdir(input_dir) if os.path.isfile(os.path.join(input_dir, f))]\n",
    "images = [load_image(os.path.join(input_dir, file)) for file in image_files]\n",
    "print(len(images))\n",
    "# Аугментация изображений\n",
    "num_augmentations = 10  # Увеличиваем количество изображений в 10 раз\n",
    "for i, image in enumerate(images):\n",
    "    augmented_images = augment_image(image, num_augmentations)\n",
    "    for j, augmented_image in enumerate(augmented_images):\n",
    "        save_image(augmented_image, os.path.join(output_dir, f'augmented_{i}_{j}.jpg'))\n",
    "\n",
    "print(f'Augmentation finished successfully. Output dir: {output_dir}')\n"
   ]
  }
 ],
 "metadata": {
  "kernelspec": {
   "display_name": "Python 3",
   "language": "python",
   "name": "python3"
  },
  "language_info": {
   "codemirror_mode": {
    "name": "ipython",
    "version": 2
   },
   "file_extension": ".py",
   "mimetype": "text/x-python",
   "name": "python",
   "nbconvert_exporter": "python",
   "pygments_lexer": "ipython2",
   "version": "2.7.6"
  }
 },
 "nbformat": 4,
 "nbformat_minor": 5
}
