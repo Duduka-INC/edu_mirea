{
 "cells": [
  {
   "cell_type": "markdown",
   "source": [
    "# #2"
   ],
   "metadata": {
    "collapsed": false
   },
   "id": "97dc604ca0568d58"
  },
  {
   "cell_type": "code",
   "execution_count": null,
   "outputs": [],
   "source": [
    "import cv2\n",
    "import albumentations as A\n",
    "import numpy as np\n",
    "import os"
   ],
   "metadata": {
    "collapsed": false
   },
   "id": "500a81b7e80524a3"
  },
  {
   "cell_type": "code",
   "execution_count": null,
   "outputs": [],
   "source": [
    "# Функция для загрузки изображения\n",
    "def load_image(file_path):\n",
    "    return cv2.imread(file_path)\n",
    "\n",
    "# Функция для сохранения изображения\n",
    "def save_image(image, output_path):\n",
    "    cv2.imwrite(output_path, image)"
   ],
   "metadata": {
    "collapsed": false
   },
   "id": "a6d6799c3c8156dd"
  },
  {
   "cell_type": "code",
   "execution_count": null,
   "outputs": [],
   "source": [
    "# Задаем аугментации\n",
    "augmentation_pipeline = A.Compose([\n",
    "    A.RandomRotate90(p=0.5),\n",
    "    A.HorizontalFlip(p=0.5),\n",
    "    A.VerticalFlip(p=0.5),\n",
    "    A.ShiftScaleRotate(shift_limit=0.0625, scale_limit=0.5, rotate_limit=45, p=0.5),\n",
    "    A.RGBShift(r_shift_limit=20, g_shift_limit=20, b_shift_limit=20, p=0.5),\n",
    "    A.RandomBrightnessContrast(brightness_limit=0.2, contrast_limit=0.2, p=0.5),\n",
    "    A.HueSaturationValue(hue_shift_limit=20, sat_shift_limit=30, val_shift_limit=20, p=0.5),\n",
    "])"
   ],
   "metadata": {
    "collapsed": false
   },
   "id": "a90fdcab3ac4855f"
  },
  {
   "cell_type": "code",
   "execution_count": null,
   "outputs": [],
   "source": [
    "def augment_image(image, num_augmentations):\n",
    "    augmented_images = []\n",
    "    for _ in range(num_augmentations):\n",
    "        augmented = augmentation_pipeline(image=image)['image']\n",
    "        augmented_images.append(augmented)\n",
    "    return augmented_images"
   ],
   "metadata": {
    "collapsed": false
   },
   "id": "3ad4d05ad23b87d0"
  },
  {
   "cell_type": "code",
   "execution_count": null,
   "outputs": [],
   "source": [
    "# Путь к директории с исходными изображениями\n",
    "input_dir = 'input_images'\n",
    "# Путь к директории для сохранения аугментированных изображений\n",
    "output_dir = 'output_images'\n",
    "\n",
    "if not os.path.exists(output_dir):\n",
    "    os.makedirs(output_dir)\n",
    "\n",
    "# Загрузка изображений\n",
    "image_files = [f for f in os.listdir(input_dir) if os.path.isfile(os.path.join(input_dir, f))]\n",
    "images = [load_image(os.path.join(input_dir, file)) for file in image_files]\n",
    "print(len(images))"
   ],
   "metadata": {
    "collapsed": false
   },
   "id": "afceb47c7e58e824"
  },
  {
   "cell_type": "code",
   "execution_count": 4,
   "outputs": [
    {
     "name": "stdout",
     "output_type": "stream",
     "text": [
      "2\n",
      "Аугментация завершена. Аугментированные изображения сохранены в директории output_images\n"
     ]
    }
   ],
   "source": [
    "# Аугментация изображений\n",
    "num_augmentations = 10  # Увеличиваем количество изображений в 10 раз\n",
    "for i, image in enumerate(images):\n",
    "    augmented_images = augment_image(image, num_augmentations)\n",
    "    for j, augmented_image in enumerate(augmented_images):\n",
    "        save_image(augmented_image, os.path.join(output_dir, f'augmented_{i}_{j}.jpg'))\n",
    "\n",
    "print(f'Augmentation finished successfully. Output dir: {output_dir}')"
   ],
   "metadata": {
    "collapsed": false,
    "ExecuteTime": {
     "end_time": "2024-06-03T02:05:59.829788200Z",
     "start_time": "2024-06-03T02:05:58.519401300Z"
    }
   },
   "id": "b7d629fd9be7db9d"
  },
  {
   "cell_type": "code",
   "execution_count": null,
   "outputs": [],
   "source": [],
   "metadata": {
    "collapsed": false
   },
   "id": "16d09515570a3ee4"
  }
 ],
 "metadata": {
  "kernelspec": {
   "display_name": "Python 3",
   "language": "python",
   "name": "python3"
  },
  "language_info": {
   "codemirror_mode": {
    "name": "ipython",
    "version": 2
   },
   "file_extension": ".py",
   "mimetype": "text/x-python",
   "name": "python",
   "nbconvert_exporter": "python",
   "pygments_lexer": "ipython2",
   "version": "2.7.6"
  }
 },
 "nbformat": 4,
 "nbformat_minor": 5
}
